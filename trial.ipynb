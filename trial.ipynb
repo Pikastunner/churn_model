{
 "cells": [
  {
   "cell_type": "code",
   "execution_count": 2,
   "metadata": {},
   "outputs": [],
   "source": [
    "from pprint import pprint \n",
    "import numpy as np\n",
    "import pandas as pd\n",
    "import seaborn as sns\n",
    "import matplotlib.pyplot as mtp\n",
    "from sklearn.model_selection import train_test_split\n",
    "from sklearn.preprocessing import StandardScaler\n",
    "from sklearn.preprocessing import OrdinalEncoder\n",
    "from sklearn.feature_selection import SelectKBest\n",
    "from sklearn.feature_selection import f_classif\n",
    "from sklearn.neighbors import LocalOutlierFactor\n",
    "from sklearn.preprocessing import StandardScaler\n",
    "from sklearn.linear_model import LogisticRegression \n",
    "from sklearn.covariance import EllipticEnvelope\n",
    "from sklearn.metrics import confusion_matrix\n",
    "from matplotlib import pyplot\n",
    "from matplotlib.colors import ListedColormap\n",
    "from sklearn import linear_model\n",
    "from patsy import dmatrices\n",
    "from statsmodels.stats.outliers_influence import variance_inflation_factor"
   ]
  },
  {
   "cell_type": "code",
   "execution_count": 46,
   "metadata": {},
   "outputs": [
    {
     "name": "stdout",
     "output_type": "stream",
     "text": [
      "Removed data fields: []\n",
      "Before: 7043 After: 7043\n"
     ]
    },
    {
     "ename": "TypeError",
     "evalue": "'float' object cannot be interpreted as an integer",
     "output_type": "error",
     "traceback": [
      "\u001b[1;31m---------------------------------------------------------------------------\u001b[0m",
      "\u001b[1;31mTypeError\u001b[0m                                 Traceback (most recent call last)",
      "\u001b[1;32m~\\AppData\\Local\\Temp\\ipykernel_2316\\3286275365.py\u001b[0m in \u001b[0;36m<module>\u001b[1;34m\u001b[0m\n\u001b[0;32m     86\u001b[0m \u001b[0mtransaction_data\u001b[0m \u001b[1;33m=\u001b[0m \u001b[0mpd\u001b[0m\u001b[1;33m.\u001b[0m\u001b[0mDataFrame\u001b[0m\u001b[1;33m(\u001b[0m\u001b[0mpd\u001b[0m\u001b[1;33m.\u001b[0m\u001b[0mread_csv\u001b[0m\u001b[1;33m(\u001b[0m\u001b[1;34m\"Data/telco_customer.csv\"\u001b[0m\u001b[1;33m,\u001b[0m \u001b[0mencoding\u001b[0m\u001b[1;33m=\u001b[0m\u001b[1;34m\"unicode_escape\"\u001b[0m\u001b[1;33m)\u001b[0m\u001b[1;33m)\u001b[0m\u001b[1;33m\u001b[0m\u001b[1;33m\u001b[0m\u001b[0m\n\u001b[0;32m     87\u001b[0m \u001b[1;31m#print((transaction_data['gender'].head(1)))\u001b[0m\u001b[1;33m\u001b[0m\u001b[1;33m\u001b[0m\u001b[0m\n\u001b[1;32m---> 88\u001b[1;33m \u001b[0mtransaction_data\u001b[0m \u001b[1;33m=\u001b[0m \u001b[0mclean_data\u001b[0m\u001b[1;33m(\u001b[0m\u001b[0mtransaction_data\u001b[0m\u001b[1;33m)\u001b[0m\u001b[1;33m\u001b[0m\u001b[1;33m\u001b[0m\u001b[0m\n\u001b[0m\u001b[0;32m     89\u001b[0m \u001b[0msns\u001b[0m\u001b[1;33m.\u001b[0m\u001b[0mregplot\u001b[0m\u001b[1;33m(\u001b[0m\u001b[0mx\u001b[0m\u001b[1;33m=\u001b[0m\u001b[0mtransaction_data\u001b[0m\u001b[1;33m.\u001b[0m\u001b[0mMonthlyCharges\u001b[0m\u001b[1;33m,\u001b[0m\u001b[0my\u001b[0m\u001b[1;33m=\u001b[0m\u001b[0mtransaction_data\u001b[0m\u001b[1;33m.\u001b[0m\u001b[0mChurn\u001b[0m\u001b[1;33m,\u001b[0m \u001b[0mdata\u001b[0m\u001b[1;33m=\u001b[0m\u001b[0mtransaction_data\u001b[0m\u001b[1;33m,\u001b[0m \u001b[0mlogistic\u001b[0m\u001b[1;33m=\u001b[0m\u001b[1;32mTrue\u001b[0m\u001b[1;33m,\u001b[0m \u001b[0mci\u001b[0m\u001b[1;33m=\u001b[0m\u001b[1;32mNone\u001b[0m\u001b[1;33m)\u001b[0m\u001b[1;33m\u001b[0m\u001b[1;33m\u001b[0m\u001b[0m\n",
      "\u001b[1;32m~\\AppData\\Local\\Temp\\ipykernel_2316\\3286275365.py\u001b[0m in \u001b[0;36mclean_data\u001b[1;34m(dataset)\u001b[0m\n\u001b[0;32m     70\u001b[0m     \u001b[0mmatrix\u001b[0m \u001b[1;33m=\u001b[0m \u001b[0mdataset\u001b[0m\u001b[1;33m.\u001b[0m\u001b[0mcorr\u001b[0m\u001b[1;33m(\u001b[0m\u001b[1;33m)\u001b[0m\u001b[1;33m.\u001b[0m\u001b[0mround\u001b[0m\u001b[1;33m(\u001b[0m\u001b[1;36m1\u001b[0m\u001b[1;33m)\u001b[0m\u001b[1;33m\u001b[0m\u001b[1;33m\u001b[0m\u001b[0m\n\u001b[0;32m     71\u001b[0m     \u001b[1;31m#sns.heatmap(matrix, annot=True)\u001b[0m\u001b[1;33m\u001b[0m\u001b[1;33m\u001b[0m\u001b[0m\n\u001b[1;32m---> 72\u001b[1;33m     \u001b[0mprint\u001b[0m\u001b[1;33m(\u001b[0m\u001b[0mmatrix\u001b[0m\u001b[1;33m.\u001b[0m\u001b[0misin\u001b[0m\u001b[1;33m(\u001b[0m\u001b[1;33m[\u001b[0m\u001b[0mi\u001b[0m \u001b[1;32mfor\u001b[0m \u001b[0mi\u001b[0m \u001b[1;32min\u001b[0m \u001b[0mrange\u001b[0m\u001b[1;33m(\u001b[0m\u001b[1;36m0.7\u001b[0m\u001b[1;33m,\u001b[0m \u001b[1;36m1\u001b[0m\u001b[1;33m,\u001b[0m \u001b[1;36m0.1\u001b[0m\u001b[1;33m)\u001b[0m\u001b[1;33m]\u001b[0m\u001b[1;33m)\u001b[0m\u001b[1;33m.\u001b[0m\u001b[0many\u001b[0m\u001b[1;33m(\u001b[0m\u001b[1;33m)\u001b[0m\u001b[1;33m)\u001b[0m\u001b[1;33m\u001b[0m\u001b[1;33m\u001b[0m\u001b[0m\n\u001b[0m\u001b[0;32m     73\u001b[0m \u001b[1;33m\u001b[0m\u001b[0m\n\u001b[0;32m     74\u001b[0m \u001b[1;33m\u001b[0m\u001b[0m\n",
      "\u001b[1;31mTypeError\u001b[0m: 'float' object cannot be interpreted as an integer"
     ]
    }
   ],
   "source": [
    "# Cleaning the data by looking at any empty values in the row and converting categorical data to numerical data\n",
    "def clean_data(dataset):\n",
    "\n",
    "    # Remove any data fields that are significantly underrepresented\n",
    "    num_rows = len(dataset)\n",
    "    remove_data_fields = []\n",
    "    for column in dataset:\n",
    "        null_count = dataset[column].isna().sum()\n",
    "        if (null_count >= num_rows / 2):\n",
    "            remove_data_fields.append(column)\n",
    "    print(f\"Removed data fields: {remove_data_fields}\")\n",
    "    dataset.drop(remove_data_fields)\n",
    "\n",
    "    # Replace nulls with mean or something equally logical\n",
    "    check = []\n",
    "    check.append(len(dataset))\n",
    "    dataset = dataset.dropna()\n",
    "    check.append(len(dataset))\n",
    "    print(f\"Before: {check[0]} After: {check[1]}\")\n",
    "    check.clear()\n",
    "\n",
    "    # Replace categorical variables with dummy variables\n",
    "    dataset = to_numerical(dataset)\n",
    "\n",
    "    mean_of_cols = {column: np.mean(dataset[column]) for column in dataset.columns}\n",
    "    sd_of_cols = {column: np.std(dataset[column]) for column in dataset.columns}\n",
    "    num_cols = len(dataset.columns)\n",
    "    to_remove = []\n",
    "    # Remove / replace outliers\n",
    "    # Method 1: Removing rows that have more outliers than half the amount of columns or otherwise replacing outliers with the mean value of the column\n",
    "    # In this method, we define outliers as data values that are 3 standard deviations away from the mean\n",
    "    def outlier_1(dataset): \n",
    "        for index, row in dataset.iterrows():\n",
    "            outliers = []\n",
    "            for column in dataset.columns:\n",
    "                data_mean, data_std = mean_of_cols[column], sd_of_cols[column]\n",
    "                threshold = data_std * 3\n",
    "                lower_bound, upper_bound = data_mean - threshold, data_mean + threshold\n",
    "                if (row[column] <= lower_bound or row[column] >= upper_bound):\n",
    "                    outliers.append(column)\n",
    "            if len(outliers) == 0:\n",
    "                continue\n",
    "            elif len(outliers) > num_cols / 2:\n",
    "                to_remove.append(dataset[\"customerID\"])\n",
    "            else:\n",
    "                for cols in outliers:\n",
    "                    dataset.iloc[index][cols] = mean_of_cols[cols]\n",
    "        for id in to_remove:\n",
    "            dataset = dataset[dataset.CustomerID != id]\n",
    "\n",
    "    # Method 2: One-class classification\n",
    "    # Removing all rows with outliers identified in the algorithm \n",
    "    def outlier_2(dataset, values):\n",
    "        x, y = values[1:, :-1], values[1:, -1]\n",
    "        x_train, x_test, y_train, y_test = train_test_split(x, y, test_size=0.33, random_state=1)\n",
    "        lof = LocalOutlierFactor()\n",
    "        yhat = lof.fit_predict(x_train)\n",
    "        mask = [i for i in range(len(yhat)) if yhat[i] == -1]\n",
    "        dataset.drop(mask, axis=0, inplace=True)\n",
    "\n",
    "\n",
    "    outlier_2(dataset, dataset.values)\n",
    "\n",
    "    # Feature scaling: Standardisation\n",
    "    scaler = StandardScaler()\n",
    "    dataset = pd.DataFrame(scaler.fit_transform(dataset), columns=dataset.columns, index=dataset.index)\n",
    "\n",
    "\n",
    "    # Detecting correlations between independent variables\n",
    "    matrix = dataset.corr().round(1)\n",
    "    #sns.heatmap(matrix, annot=True)\n",
    "    print(matrix.isin([i / 10 for i in range(7, 10)]).any())\n",
    "\n",
    "\n",
    "\n",
    "    return dataset\n",
    "\n",
    "def to_numerical(dataset):\n",
    "    for i in list(dataset.columns):\n",
    "        if not str((dataset[i]).head(1)).isnumeric():\n",
    "            ord_enc = OrdinalEncoder() \n",
    "            dataset[i] = ord_enc.fit_transform(dataset[[i]])\n",
    "    return dataset\n",
    "    \n",
    "# Open all the datasets \n",
    "transaction_data = pd.DataFrame(pd.read_csv(\"Data/telco_customer.csv\", encoding=\"unicode_escape\"))\n",
    "#print((transaction_data['gender'].head(1)))\n",
    "transaction_data = clean_data(transaction_data)\n",
    "sns.regplot(x=transaction_data.MonthlyCharges,y=transaction_data.Churn, data=transaction_data, logistic=True, ci=None)\n"
   ]
  },
  {
   "cell_type": "code",
   "execution_count": 8,
   "metadata": {},
   "outputs": [
    {
     "name": "stdout",
     "output_type": "stream",
     "text": [
      "            variable        VIF\n",
      "0          Intercept  23.312980\n",
      "1             gender   1.001669\n",
      "2      SeniorCitizen   1.149561\n",
      "3            Partner   1.460845\n",
      "4         Dependents   1.382153\n",
      "5             tenure   2.754638\n",
      "6       PhoneService   1.595437\n",
      "7      MultipleLines   1.404471\n",
      "8    InternetService   1.644109\n",
      "9     OnlineSecurity   1.247164\n",
      "10      OnlineBackup   1.188771\n",
      "11  DeviceProtection   1.283092\n",
      "12       TechSupport   1.302967\n",
      "13       StreamingTV   1.462413\n",
      "14   StreamingMovies   1.460232\n",
      "15          Contract   2.479255\n",
      "16  PaperlessBilling   1.202181\n",
      "17     PaymentMethod   1.180566\n",
      "18    MonthlyCharges   2.780474\n",
      "19      TotalCharges   1.112663\n"
     ]
    }
   ],
   "source": [
    "# Testing for multicollinearity\n",
    "num_cols = len(transaction_data.columns)\n",
    "model_string = ' + '.join([transaction_data.columns[i] for i in range(1, num_cols - 1)])\n",
    "y, x = dmatrices(f'Churn ~ {model_string}', data=transaction_data, return_type = 'dataframe')\n",
    "vif_df = pd.DataFrame()\n",
    "vif_df['variable'] = x.columns\n",
    "vif_df['VIF'] = [variance_inflation_factor(x.values, i) for i in range(x.shape[1])]\n",
    "print(vif_df)"
   ]
  },
  {
   "cell_type": "code",
   "execution_count": 90,
   "metadata": {},
   "outputs": [
    {
     "name": "stdout",
     "output_type": "stream",
     "text": [
      "<class 'sklearn.feature_selection._univariate_selection.SelectKBest'>\n",
      "Feature: (0, 0.6277233214398283)\n",
      "Feature: (1, 4.111832706905982e-26)\n",
      "Feature: (2, 1.119699863372196e-22)\n",
      "Feature: (3, 1.8257897722548714e-25)\n",
      "Feature: (4, 7.597825526519917e-134)\n",
      "Feature: (5, 0.1778770381339077)\n",
      "Feature: (6, 0.00495401155861362)\n",
      "Feature: (7, 0.0012807334613249043)\n",
      "Feature: (8, 2.4543463438765066e-85)\n",
      "Feature: (9, 3.4703311040869097e-41)\n",
      "Feature: (10, 1.1208741211715148e-33)\n",
      "Feature: (11, 2.854637730415469e-81)\n",
      "Feature: (12, 0.01542420482017236)\n",
      "Feature: (13, 0.025802626191808644)\n",
      "Feature: (14, 1.8668368375148608e-172)\n",
      "Feature: (15, 1.8809901216950583e-35)\n",
      "Feature: (16, 1.4920309554489683e-12)\n",
      "Feature: (17, 5.4568275491947935e-37)\n",
      "Feature: (18, 0.4736188457131235)\n"
     ]
    },
    {
     "data": {
      "image/png": "[encoded data removed]",
      "text/plain": [
       "<Figure size 640x480 with 1 Axes>"
      ]
     },
     "metadata": {},
     "output_type": "display_data"
    },
    {
     "name": "stdout",
     "output_type": "stream",
     "text": [
      "{'Contract': 15,\n",
      " 'Dependents': 4,\n",
      " 'DeviceProtection': 11,\n",
      " 'InternetService': 8,\n",
      " 'MonthlyCharges': 18,\n",
      " 'MultipleLines': 7,\n",
      " 'OnlineBackup': 10,\n",
      " 'OnlineSecurity': 9,\n",
      " 'PaperlessBilling': 16,\n",
      " 'Partner': 3,\n",
      " 'PaymentMethod': 17,\n",
      " 'SeniorCitizen': 2,\n",
      " 'StreamingMovies': 14,\n",
      " 'StreamingTV': 13,\n",
      " 'TechSupport': 12,\n",
      " 'tenure': 5}\n"
     ]
    }
   ],
   "source": [
    "# Checking which variables are significant\n",
    "def select_features(x_train, y_train, x_test):\n",
    "    bestfeatures = SelectKBest(score_func = f_classif, k = 'all')\n",
    "    bestfeatures.fit(x_train, y_train)\n",
    "    x_train_fs = bestfeatures.transform(x_train)\n",
    "    x_test_fs = bestfeatures.transform(x_test)\n",
    "    return x_train_fs, x_test_fs, bestfeatures\n",
    "\n",
    "x = transaction_data.iloc[:, [i for i in range(1, num_cols - 1)]]\n",
    "y = transaction_data.iloc[:, num_cols - 1]\n",
    "x_train, x_test, y_train, y_test = train_test_split(x, y, test_size=0.33, random_state=1)\n",
    "x_train_fs, x_test_fs, bestfeatures = select_features(x_train, y_train, x_test)\n",
    "print(type(bestfeatures))\n",
    "significant = {}\n",
    "for i in range(len(bestfeatures.scores_)):\n",
    "    if (bestfeatures.pvalues_[i] <= 0.05):\n",
    "        significant.update({x.columns[i]: i + 1}) \n",
    "    print(f\"Feature: {i, bestfeatures.pvalues_[i]}\")\n",
    "pyplot.bar([i for i in range(len(bestfeatures.scores_))], bestfeatures.scores_)\n",
    "pyplot.show()\n",
    "pprint(significant)"
   ]
  },
  {
   "cell_type": "code",
   "execution_count": 92,
   "metadata": {},
   "outputs": [
    {
     "name": "stdout",
     "output_type": "stream",
     "text": [
      "   SeniorCitizen  Partner  Dependents  tenure  MultipleLines  InternetService  \\\n",
      "0            0.0      1.0         0.0     1.0            1.0              0.0   \n",
      "1            0.0      0.0         0.0    34.0            0.0              0.0   \n",
      "2            0.0      0.0         0.0     2.0            0.0              0.0   \n",
      "3            0.0      0.0         0.0    45.0            1.0              0.0   \n",
      "4            0.0      0.0         0.0     2.0            0.0              1.0   \n",
      "\n",
      "   OnlineSecurity  OnlineBackup  DeviceProtection  TechSupport  StreamingTV  \\\n",
      "0             0.0           2.0               0.0          0.0          0.0   \n",
      "1             2.0           0.0               2.0          0.0          0.0   \n",
      "2             2.0           2.0               0.0          0.0          0.0   \n",
      "3             2.0           0.0               2.0          2.0          0.0   \n",
      "4             0.0           0.0               0.0          0.0          0.0   \n",
      "\n",
      "   StreamingMovies  Contract  PaperlessBilling  PaymentMethod  MonthlyCharges  \n",
      "0              0.0       0.0               1.0            2.0           142.0  \n",
      "1              0.0       1.0               0.0            3.0           498.0  \n",
      "2              0.0       0.0               1.0            3.0           436.0  \n",
      "3              0.0       1.0               0.0            0.0           266.0  \n",
      "4              0.0       0.0               1.0            2.0           729.0  \n",
      "0    0.0\n",
      "1    0.0\n",
      "2    1.0\n",
      "3    0.0\n",
      "4    1.0\n",
      "Name: Churn, dtype: float64\n"
     ]
    }
   ],
   "source": [
    "# Collecting the variables\n",
    "x = transaction_data.iloc[:, [i for i in significant.values()]]\n",
    "y = transaction_data.iloc[:, num_cols - 1]\n",
    "print(x.head(5))\n",
    "print(y.head(5))"
   ]
  },
  {
   "cell_type": "code",
   "execution_count": 42,
   "metadata": {},
   "outputs": [],
   "source": [
    "# Splitting the dataset into training and test set\n",
    "x_train, x_test, y_train, y_test = train_test_split(x, y, test_size=0.25, random_state=0)"
   ]
  },
  {
   "cell_type": "code",
   "execution_count": 43,
   "metadata": {},
   "outputs": [],
   "source": [
    "st_x = StandardScaler()\n",
    "x_train = st_x.fit_transform(x_train)\n",
    "x_test = st_x.transform(x_test)\n",
    "#print(x_train.head(5))\n",
    "#print(x_test.head(5))"
   ]
  },
  {
   "cell_type": "code",
   "execution_count": 44,
   "metadata": {},
   "outputs": [
    {
     "data": {
      "text/plain": [
       "LogisticRegression(random_state=0)"
      ]
     },
     "execution_count": 44,
     "metadata": {},
     "output_type": "execute_result"
    }
   ],
   "source": [
    "classifier = LogisticRegression(random_state=0)\n",
    "classifier.fit(x_train, y_train)\n"
   ]
  },
  {
   "cell_type": "code",
   "execution_count": 45,
   "metadata": {},
   "outputs": [
    {
     "name": "stdout",
     "output_type": "stream",
     "text": [
      "[0. 0. 0. 0. 0. 0. 0. 0. 0. 0.]\n"
     ]
    }
   ],
   "source": [
    "y_pred= classifier.predict(x_test)\n",
    "print(y_pred[:10])\n"
   ]
  },
  {
   "cell_type": "code",
   "execution_count": 62,
   "metadata": {},
   "outputs": [
    {
     "name": "stdout",
     "output_type": "stream",
     "text": [
      "The accuracy of the predicted results is 0.0816993464052288%\n"
     ]
    }
   ],
   "source": [
    "cm = confusion_matrix(y_test, y_pred)\n",
    "cm\n",
    "accuracy = (cm[0][1] + cm[1][0]) / (cm[0][0] + cm[1][1]) \n",
    "print(f\"The accuracy of the predicted results is {1 - accuracy}\")"
   ]
  },
  {
   "cell_type": "code",
   "execution_count": 59,
   "metadata": {},
   "outputs": [
    {
     "name": "stderr",
     "output_type": "stream",
     "text": [
      "No artists with labels found to put in legend.  Note that artists whose label start with an underscore are ignored when legend() is called with no argument.\n"
     ]
    },
    {
     "data": {
      "image/png": "[encoded data removed]",
      "text/plain": [
       "<Figure size 640x480 with 1 Axes>"
      ]
     },
     "metadata": {},
     "output_type": "display_data"
    }
   ],
   "source": [
    "x_set, y_set = x_train , y_train\n",
    "x1, x2 = np.meshgrid(np.arange(start = x_set[:, 0].min() - 1, stop = x_set[:, 0].max() + 1, step = 0.01), np.arange(start = x_set[:, 1].min() - 1, stop = x_set[:, 1].max() + 1, step = 0.01))\n",
    "mtp.contourf(x1, x2, classifier.predict(np.array([x1.ravel(), x2.ravel()]).T).reshape(x1.shape), alpha = 0.75, cmap = ListedColormap(('purple', 'green')))\n",
    "mtp.xlim(x1.min(), x1.max())\n",
    "mtp.ylim(x2.min(), x2.max())\n",
    "for i, j in enumerate(np.unique(y_set)):\n",
    "    mtp.scatter(x_set[y_set == j, 0], x_set[y_set == j, 1])\n",
    "    c = ListedColormap('purple', 'green')(i)\n",
    "mtp.title('Logistic Regression of training set')\n",
    "mtp.xlabel('Gender + SeniorCitizen')\n",
    "mtp.ylabel('Churn')\n",
    "mtp.legend()\n",
    "mtp.show()\n",
    "\n"
   ]
  }
 ],
 "metadata": {
  "kernelspec": {
   "display_name": "base",
   "language": "python",
   "name": "python3"
  },
  "language_info": {
   "codemirror_mode": {
    "name": "ipython",
    "version": 3
   },
   "file_extension": ".py",
   "mimetype": "text/x-python",
   "name": "python",
   "nbconvert_exporter": "python",
   "pygments_lexer": "ipython3",
   "version": "3.9.13"
  },
  "orig_nbformat": 4,
  "vscode": {
   "interpreter": {
    "hash": "ad2bdc8ecc057115af97d19610ffacc2b4e99fae6737bb82f5d7fb13d2f2c186"
   }
  }
 },
 "nbformat": 4,
 "nbformat_minor": 2
}
